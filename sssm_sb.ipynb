{
 "cells": [
  {
   "cell_type": "code",
   "execution_count": 8,
   "metadata": {},
   "outputs": [],
   "source": [
    "import numpy as np\n",
    "\n",
    "\n",
    "def get_hankel(N):\n",
    "    ret = np.zeros((N, N))\n",
    "    for i in range(1, N+1):\n",
    "        for j in range(1, N+1):\n",
    "            ret[i-1, j-1] = 2/ ((i + j)**3 - (i + j))\n",
    "    return ret\n",
    "\n",
    "def get_toeplitz(N):\n",
    "    ret = np.zeros((N, N))\n",
    "    for i in range(1, N+1):\n",
    "        for j in range(1, N+1):\n",
    "            try:\n",
    "                ret[i-1, j-1] = 2/ ((i - j + 3)*(i - j + 2)*(i - j + 1))\n",
    "            except ZeroDivisionError:\n",
    "                ret[i-1, j-1] = 0\n",
    "    return ret\n",
    "\n",
    "hk = get_hankel(5)\n",
    "tp = get_toeplitz(5)"
   ]
  },
  {
   "cell_type": "code",
   "execution_count": 22,
   "metadata": {},
   "outputs": [
    {
     "name": "stdout",
     "output_type": "stream",
     "text": [
      "[[0.33333333 0.08333333 0.03333333 0.01666667 0.00952381]\n",
      " [0.08333333 0.03333333 0.01666667 0.00952381 0.00595238]\n",
      " [0.03333333 0.01666667 0.00952381 0.00595238 0.00396825]\n",
      " [0.01666667 0.00952381 0.00595238 0.00396825 0.00277778]\n",
      " [0.00952381 0.00595238 0.00396825 0.00277778 0.0020202 ]]\n",
      "[[0.00952381 0.01666667 0.03333333 0.08333333 0.33333333]\n",
      " [0.00595238 0.00952381 0.01666667 0.03333333 0.08333333]\n",
      " [0.00396825 0.00595238 0.00952381 0.01666667 0.03333333]\n",
      " [0.00277778 0.00396825 0.00595238 0.00952381 0.01666667]\n",
      " [0.0020202  0.00277778 0.00396825 0.00595238 0.00952381]]\n",
      "[[ 0.33333333  0.          0.          0.         -0.33333333]\n",
      " [ 0.08333333  0.33333333  0.          0.          0.        ]\n",
      " [ 0.03333333  0.08333333  0.33333333  0.          0.        ]\n",
      " [ 0.01666667  0.03333333  0.08333333  0.33333333  0.        ]\n",
      " [ 0.00952381  0.01666667  0.03333333  0.08333333  0.33333333]]\n"
     ]
    }
   ],
   "source": [
    "def construct_reflection(N):\n",
    "    perm = np.eye(N)\n",
    "    for i in range(N//2):\n",
    "        temp = perm[:, -i-1].copy()\n",
    "        perm[:, -i-1] = perm[:, i]\n",
    "        perm[:, i] = temp\n",
    "    return perm\n",
    "R = construct_reflection(5)\n",
    "\n",
    "print(hk)\n",
    "print(hk @ R)\n",
    "print(tp)"
   ]
  },
  {
   "cell_type": "code",
   "execution_count": 16,
   "metadata": {},
   "outputs": [
    {
     "data": {
      "text/plain": [
       "tensor([ 90.,  96., 102., 108., 114., 120.])"
      ]
     },
     "execution_count": 16,
     "metadata": {},
     "output_type": "execute_result"
    }
   ],
   "source": [
    "import torch\n",
    "\n",
    "d_model = 6\n",
    "W = torch.arange(d_model*d_model).reshape(d_model, d_model)\n",
    "b = torch.arange(d_model, dtype=torch.float, requires_grad=True)\n",
    "loss = torch.ones(d_model) @ (W * b) @ torch.ones(d_model)\n",
    "loss.backward()\n",
    "b.grad\n"
   ]
  },
  {
   "cell_type": "code",
   "execution_count": 15,
   "metadata": {},
   "outputs": [
    {
     "name": "stdout",
     "output_type": "stream",
     "text": [
      "tensor([[ 0,  1,  2,  3,  4,  5],\n",
      "        [ 6,  7,  8,  9, 10, 11],\n",
      "        [12, 13, 14, 15, 16, 17],\n",
      "        [18, 19, 20, 21, 22, 23],\n",
      "        [24, 25, 26, 27, 28, 29],\n",
      "        [30, 31, 32, 33, 34, 35]])\n",
      "tensor([[ 0.,  2.,  4.,  6.,  8., 10.],\n",
      "        [ 6.,  8., 10., 12., 14., 16.],\n",
      "        [12., 14., 16., 18., 20., 22.],\n",
      "        [18., 20., 22., 24., 26., 28.],\n",
      "        [24., 26., 28., 30., 32., 34.],\n",
      "        [30., 32., 34., 36., 38., 40.]], grad_fn=<AddBackward0>)\n",
      "tensor(720., grad_fn=<DotBackward0>)\n",
      "tensor(720., grad_fn=<SumBackward0>)\n"
     ]
    }
   ],
   "source": [
    "print(W)\n",
    "print(W + b)\n",
    "print(loss)\n",
    "print((W + b).sum())\n"
   ]
  },
  {
   "cell_type": "code",
   "execution_count": null,
   "metadata": {},
   "outputs": [],
   "source": []
  }
 ],
 "metadata": {
  "kernelspec": {
   "display_name": "s4",
   "language": "python",
   "name": "python3"
  },
  "language_info": {
   "codemirror_mode": {
    "name": "ipython",
    "version": 3
   },
   "file_extension": ".py",
   "mimetype": "text/x-python",
   "name": "python",
   "nbconvert_exporter": "python",
   "pygments_lexer": "ipython3",
   "version": "3.12.4"
  }
 },
 "nbformat": 4,
 "nbformat_minor": 2
}
