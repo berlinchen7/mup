{
 "cells": [
  {
   "cell_type": "code",
   "execution_count": null,
   "metadata": {},
   "outputs": [],
   "source": [
    "import torch\n",
    "\n",
    "a = torch.load(\"/home/berlin/mup/examples/SSMs/grad_plot/inproj_t=10_w=512_seed=0.pt\", weights_only=True, map_location='cpu')"
   ]
  },
  {
   "cell_type": "code",
   "execution_count": null,
   "metadata": {},
   "outputs": [],
   "source": [
    "import math\n",
    "for i in [128, 256, 512, 1024, 4096, 8192]:\n",
    "    a = torch.load(f\"/home/berlin/mup/examples/SSMs/grad_plot/inproj_t=5_w={i}_seed=0.pt\", weights_only=True, map_location='cpu')\n",
    "    # print(torch.max(torch.abs(a))*math.sqrt(i))\n",
    "    print(torch.norm(a[:30]))"
   ]
  },
  {
   "cell_type": "code",
   "execution_count": null,
   "metadata": {},
   "outputs": [],
   "source": [
    "import seaborn as sns\n",
    "\n",
    "sns.histplot(torch.abs(a)[:, 9])"
   ]
  },
  {
   "cell_type": "code",
   "execution_count": null,
   "metadata": {},
   "outputs": [],
   "source": [
    "import torch\n",
    "import pandas as pd\n",
    "import seaborn as sns\n",
    "\n",
    "l1 = lambda x: torch.abs(x).mean(dtype=torch.float32)\n",
    "\n",
    "ds = [128, 256, 512, 1024, 2048, 4096, 8192,]\n",
    "activations = []\n",
    "\n",
    "for d in ds:\n",
    "    h = torch.load(f\"h_dmodel={d}_seed=0.pt\", weights_only=True)\n",
    "    Delta = torch.load(f\"Delta_dmodel={d}_seed=0.pt\", weights_only=True)\n",
    "    B = torch.load(f\"B_dmodel={d}_seed=0.pt\", weights_only=True)\n",
    "\n",
    "    hDelta = torch.einsum(\"bai,di,cd->b\", h, Delta, B)**2#/(d**1.5)\n",
    "    # print(l1(hDelta).item())\n",
    "    activations.append(l1(hDelta).item())\n",
    "\n",
    "df = pd.DataFrame({'d_model': ds, 'l1': activations})\n",
    "sns.scatterplot(data=df, x='d_model', y='l1')\n",
    "\n"
   ]
  },
  {
   "cell_type": "code",
   "execution_count": null,
   "metadata": {},
   "outputs": [],
   "source": [
    "sns.lmplot(x=\"d_model\", y=\"l1\", data=df,\n",
    "           order=3, # vs order=1,\n",
    "           ci=None, scatter_kws={\"s\": 80})"
   ]
  },
  {
   "cell_type": "code",
   "execution_count": null,
   "metadata": {},
   "outputs": [],
   "source": []
  }
 ],
 "metadata": {
  "kernelspec": {
   "display_name": "ssm",
   "language": "python",
   "name": "python3"
  },
  "language_info": {
   "codemirror_mode": {
    "name": "ipython",
    "version": 3
   },
   "file_extension": ".py",
   "mimetype": "text/x-python",
   "name": "python",
   "nbconvert_exporter": "python",
   "pygments_lexer": "ipython3",
   "version": "3.12.4"
  }
 },
 "nbformat": 4,
 "nbformat_minor": 2
}
