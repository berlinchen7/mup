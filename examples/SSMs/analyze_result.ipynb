{
 "cells": [
  {
   "cell_type": "code",
   "execution_count": 3,
   "metadata": {},
   "outputs": [],
   "source": [
    "%load_ext autoreload\n",
    "%autoreload 2"
   ]
  },
  {
   "cell_type": "code",
   "execution_count": 1,
   "metadata": {},
   "outputs": [
    {
     "name": "stderr",
     "output_type": "stream",
     "text": [
      "/home/berlin/miniconda3/envs/ssm/lib/python3.12/site-packages/torch/cuda/__init__.py:619: UserWarning: Can't initialize NVML\n",
      "  warnings.warn(\"Can't initialize NVML\")\n"
     ]
    }
   ],
   "source": [
    "import pandas as pd\n",
    "import torch\n",
    "\n",
    "from CustomCoordCheck import generate_SSM_models\n",
    "\n",
    "# df = pd.read_pickle('/home/berlin/mup/coord_checks/μp_ssm_sgd_lr0.1_nseeds40_bn0_coord_4Jul2024.pkl')\n",
    "\n",
    "# df.to_csv('/home/berlin/mup/coord_checks/μp_ssm_sgd_lr0.1_nseeds40_bn0_coord_4Jul2024.csv')\n",
    "\n",
    "# print(df[(df['t'] == 3) & (df['width'] == 1700) & (df['module'] == 'kernel')].to_string())\n",
    "\n",
    "\n",
    "df_B = {'seed':[], 'B': [], 't': []}\n",
    "df_C = {'seed':[], 'C': [], 't': []}\n",
    "def record_BC(B, C, seed, t):\n",
    "    B, C = B.squeeze(), model.kernel.C.squeeze()\n",
    "    B, C = B.detach().numpy().tolist(), C.detach().numpy().tolist()\n",
    "    if type(B) is not list:\n",
    "        B = [B]\n",
    "    if type(C) is not list:\n",
    "        C = [C]\n",
    "    for b in B:\n",
    "        df_B['seed'].append(seed)\n",
    "        df_B['B'].append(b)\n",
    "        df_B['t'].append(t)\n",
    "\n",
    "    for c in C:\n",
    "        df_C['seed'].append(seed)\n",
    "        df_C['C'].append(c)\n",
    "        df_C['t'].append(t)\n",
    "\n",
    "# Load the rng that's causing activation spike:\n",
    "rng_seed = torch.load('/home/berlin/mup/coord_checks/rng_state_1700_5July2024.pt')\n",
    "torch.set_rng_state(rng_seed)\n",
    "\n",
    "# #Load a 'normal' seed state\n",
    "# torch.manual_seed(1)\n",
    "\n",
    "# Initialize the model with such seed:\n",
    "model = generate_SSM_models([1700], mup=True)[1700]()\n",
    "record_BC(model.kernel.B, model.kernel.C, seed='rougue', t=0)\n",
    "\n",
    "\n",
    "\n",
    "\n",
    "\n",
    "# torch.manual_seed(0)\n",
    "# model = generate_SSM_models([1700], mup=True)[1700]()\n",
    "# record_BC(model.kernel.B, model.kernel.C, seed='normal')\n",
    "\n",
    "\n"
   ]
  },
  {
   "cell_type": "code",
   "execution_count": 3,
   "metadata": {},
   "outputs": [
    {
     "name": "stdout",
     "output_type": "stream",
     "text": [
      "Files already downloaded and verified\n",
      "DEBUG: output is tensor([[-219.7935, -219.7935, -219.7935, -219.7935, -219.7935, -219.7935,\n",
      "         1978.1417, -219.7935, -219.7935, -219.7935]],\n",
      "       grad_fn=<AddmmBackward0>)\n",
      "l1_func(output) is 395.62835693359375\n",
      "l1_func(model.up_project.weight) is 0.29061082005500793\n",
      "l1_func(model.up_project.bias) is 0.29124680161476135\n",
      "l1_func(model.kernel.A) is 0.6956562995910645\n",
      "l1_func(model.kernel.B) is 0.31654995679855347\n",
      "l1_func(model.kernel.C) is 0.21071189641952515\n",
      "l1_func(model.down_project.weight) is 1.2895045280456543\n",
      "l1_func(model.down_project.bias) is 0.017999999225139618\n",
      "DEBUG: output is tensor([[-219.7935, -219.7935, -219.7935, -219.7935, -219.7935, -219.7935,\n",
      "         1978.1417, -219.7935, -219.7935, -219.7935]],\n",
      "       grad_fn=<AddmmBackward0>)\n",
      "l1_func(output) is 395.62835693359375\n",
      "l1_func(model.up_project.weight) is 0.29061082005500793\n",
      "l1_func(model.up_project.bias) is 0.29124680161476135\n",
      "l1_func(model.kernel.A) is 0.6956562995910645\n",
      "l1_func(model.kernel.B) is 0.31654995679855347\n",
      "l1_func(model.kernel.C) is 0.21071189641952515\n",
      "l1_func(model.down_project.weight) is 1.2895045280456543\n",
      "l1_func(model.down_project.bias) is 0.017999999225139618\n",
      "DEBUG: output is tensor([[-219.7935, -219.7935, -219.7935, -219.7935, -219.7935, -219.7935,\n",
      "         1978.1417, -219.7935, -219.7935, -219.7935]],\n",
      "       grad_fn=<AddmmBackward0>)\n",
      "l1_func(output) is 395.62835693359375\n",
      "l1_func(model.up_project.weight) is 0.29061082005500793\n",
      "l1_func(model.up_project.bias) is 0.29124680161476135\n",
      "l1_func(model.kernel.A) is 0.6956562995910645\n",
      "l1_func(model.kernel.B) is 0.31654995679855347\n",
      "l1_func(model.kernel.C) is 0.21071189641952515\n",
      "l1_func(model.down_project.weight) is 1.2895045280456543\n",
      "l1_func(model.down_project.bias) is 0.017999999225139618\n"
     ]
    }
   ],
   "source": [
    "import torch.nn.functional as F\n",
    "from mup.optim import MuSGD as SGD\n",
    "from CustomCoordCheck import get_train_loader\n",
    "\n",
    "nsteps = 3\n",
    "lr = 0.1\n",
    "\n",
    "l1_func = lambda x: torch.abs(x).mean(dtype=torch.float32)\n",
    "\n",
    "optcls = lambda model: SGD(model.parameters(), lr=lr)\n",
    "optimizer = optcls(model)\n",
    "\n",
    "dataloader = get_train_loader(batch_size=1, num_workers=0, shuffle=False, train=True, download=True) \n",
    "batch = next(iter(dataloader))\n",
    "dataloader = [batch] * nsteps\n",
    "\n",
    "model = model.train()\n",
    "for batch_idx, batch in enumerate(dataloader, 1):\n",
    "    (data, target) = batch\n",
    "    output = model(data)\n",
    "    # target = F.one_hot(target,\n",
    "    #                     num_classes=output.size(-1)).float()\n",
    "    print(f\"DEBUG: output is {output}\")\n",
    "    loss = F.cross_entropy(output, target)\n",
    "\n",
    "    # print(f\"target.size() is {target.size()}\")\n",
    "\n",
    "    # print(f\"output is {output}, target is {target}, loss is {loss}; A is {model.kernel.A}\")\n",
    "    optimizer.zero_grad()\n",
    "    loss.backward()\n",
    "    optimizer.step()\n",
    "    record_BC(model.kernel.B, model.kernel.C, seed='rougue', t=batch_idx)\n",
    "\n",
    "    print(f\"l1_func(output) is {l1_func(output)}\")\n",
    "    print(f\"l1_func(model.up_project.weight) is {l1_func(model.up_project.weight)}\")\n",
    "    print(f\"l1_func(model.up_project.bias) is {l1_func(model.up_project.bias)}\")\n",
    "    print(f\"l1_func(model.kernel.A) is {l1_func(model.kernel.A)}\")\n",
    "    print(f\"l1_func(model.kernel.B) is {l1_func(model.kernel.B)}\")\n",
    "    print(f\"l1_func(model.kernel.C) is {l1_func(model.kernel.C)}\")\n",
    "    print(f\"l1_func(model.down_project.weight) is {l1_func(model.down_project.weight)}\")\n",
    "    print(f\"l1_func(model.down_project.bias) is {l1_func(model.down_project.bias)}\")\n",
    "\n",
    "\n",
    "# record_BC(model.kernel.B, model.kernel.C, seed='rougue')"
   ]
  },
  {
   "cell_type": "code",
   "execution_count": 5,
   "metadata": {},
   "outputs": [
    {
     "data": {
      "text/plain": [
       "<Axes: xlabel='B', ylabel='Count'>"
      ]
     },
     "execution_count": 5,
     "metadata": {},
     "output_type": "execute_result"
    },
    {
     "data": {
      "image/png": "[encoded data removed]",
      "text/plain": [
       "<Figure size 640x480 with 1 Axes>"
      ]
     },
     "metadata": {},
     "output_type": "display_data"
    }
   ],
   "source": [
    "import seaborn as sns\n",
    "# Plot parameters A, B, and C\n",
    "\n",
    "sns.histplot(data=df_B, x='B', multiple='dodge', alpha=0.5, hue='t')"
   ]
  },
  {
   "cell_type": "code",
   "execution_count": 7,
   "metadata": {},
   "outputs": [
    {
     "data": {
      "text/plain": [
       "tensor([[0.]])"
      ]
     },
     "execution_count": 7,
     "metadata": {},
     "output_type": "execute_result"
    }
   ],
   "source": [
    "model.kernel.A.grad"
   ]
  },
  {
   "cell_type": "code",
   "execution_count": null,
   "metadata": {},
   "outputs": [],
   "source": []
  }
 ],
 "metadata": {
  "kernelspec": {
   "display_name": "ssm",
   "language": "python",
   "name": "python3"
  },
  "language_info": {
   "codemirror_mode": {
    "name": "ipython",
    "version": 3
   },
   "file_extension": ".py",
   "mimetype": "text/x-python",
   "name": "python",
   "nbconvert_exporter": "python",
   "pygments_lexer": "ipython3",
   "version": "3.12.4"
  }
 },
 "nbformat": 4,
 "nbformat_minor": 2
}
