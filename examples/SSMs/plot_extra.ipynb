{
 "cells": [
  {
   "cell_type": "code",
   "execution_count": null,
   "metadata": {},
   "outputs": [],
   "source": [
    "from mup.coord_check import plot_coord_data\n",
    "import os\n",
    "import pandas as pd\n",
    "import seaborn as sns\n",
    "\n",
    "df = pd.read_csv('/home/berlin/mup/examples/SSMs/coord_checks/coordcheck_ssmmixer_sp_fullalign_09_28_2024_23_11_45.csv')\n",
    "\n",
    "\n",
    "# df = df.dropna()[df.dropna()['module'].str.contains('out_proj')]\n",
    "# df.head\n",
    "\n",
    "# print(df)\n",
    "plotdir = os.getcwd()\n",
    "plot_coord_data(df.dropna(),\n",
    "        save_to=os.path.join(plotdir, f'a.png'),\n",
    "        suptitle=f'untitled',\n",
    "        face_color='xkcd:light grey',\n",
    "        name_contains='in_proj',) #embedding in_proj"
   ]
  },
  {
   "cell_type": "code",
   "execution_count": null,
   "metadata": {},
   "outputs": [],
   "source": []
  }
 ],
 "metadata": {
  "kernelspec": {
   "display_name": "ssm",
   "language": "python",
   "name": "python3"
  },
  "language_info": {
   "codemirror_mode": {
    "name": "ipython",
    "version": 3
   },
   "file_extension": ".py",
   "mimetype": "text/x-python",
   "name": "python",
   "nbconvert_exporter": "python",
   "pygments_lexer": "ipython3",
   "version": "3.12.4"
  }
 },
 "nbformat": 4,
 "nbformat_minor": 2
}
